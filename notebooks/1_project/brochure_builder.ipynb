{
 "cells": [
  {
   "cell_type": "markdown",
   "metadata": {},
   "source": [
    "## BUSINESS CHALLENGE:\n",
    "\n",
    "Create a product that builds a Brochure for a company to be used for prospective clients, investors and potential recruits.\n",
    "\n",
    "We will be provided a company name and their primary website.\n"
   ]
  },
  {
   "cell_type": "code",
   "execution_count": 1,
   "metadata": {},
   "outputs": [
    {
     "data": {
      "text/plain": [
       "True"
      ]
     },
     "execution_count": 1,
     "metadata": {},
     "output_type": "execute_result"
    }
   ],
   "source": [
    "# imports\n",
    "\n",
    "import os\n",
    "import requests\n",
    "import json\n",
    "from dotenv import load_dotenv\n",
    "from bs4 import BeautifulSoup\n",
    "from IPython.display import Markdown, display, update_display\n",
    "from openai import OpenAI\n",
    "\n",
    "load_dotenv()"
   ]
  },
  {
   "cell_type": "code",
   "execution_count": 2,
   "metadata": {},
   "outputs": [],
   "source": [
    "# A class to represent a Webpage\n",
    "\n",
    "# Some websites need you to use proper headers when fetching them:\n",
    "headers = {\n",
    " \"User-Agent\": \"Mozilla/5.0 (Windows NT 10.0; Win64; x64) AppleWebKit/537.36 (KHTML, like Gecko) Chrome/117.0.0.0 Safari/537.36\"\n",
    "}\n",
    "\n",
    "class Website:\n",
    "    \"\"\"\n",
    "    A utility class to represent a Website that we have scraped, now with links\n",
    "    \"\"\"\n",
    "\n",
    "    def __init__(self, url):\n",
    "        self.url = url\n",
    "        response = requests.get(url, headers=headers)\n",
    "        self.body = response.content\n",
    "        soup = BeautifulSoup(self.body, 'html.parser')\n",
    "        self.title = soup.title.string if soup.title else \"No title found\"\n",
    "        if soup.body:\n",
    "            for irrelevant in soup.body([\"script\", \"style\", \"img\", \"input\"]):\n",
    "                irrelevant.decompose()\n",
    "            self.text = soup.body.get_text(separator=\"\\n\", strip=True)\n",
    "        else:\n",
    "            self.text = \"\"\n",
    "        links = [link.get('href') for link in soup.find_all('a')]\n",
    "        self.links = [link for link in links if link]\n",
    "\n",
    "    def get_contents(self):\n",
    "        return f\"Webpage Title:\\n{self.title}\\nWebpage Contents:\\n{self.text}\\n\\n\""
   ]
  },
  {
   "cell_type": "markdown",
   "metadata": {},
   "source": [
    "## First step: Have GPT-4o-mini figure out which links are relevant"
   ]
  },
  {
   "cell_type": "code",
   "execution_count": 4,
   "metadata": {},
   "outputs": [],
   "source": [
    "def get_links_user_prompt(website):\n",
    "    return f\"Here is the list of links on the website of {website.url} - please decide which of these are relevant web links for a brochure about the company, respond with the full https URL in JSON format.\\n\\nLinks (some might be relative links):\\n{website.links}\\n\""
   ]
  },
  {
   "cell_type": "code",
   "execution_count": 6,
   "metadata": {},
   "outputs": [],
   "source": [
    "client = OpenAI()\n",
    "\n",
    "def get_links(url):\n",
    "    website = Website(url)\n",
    "    \n",
    "    with open(\"prompt.txt\", \"r\", encoding=\"utf-8\") as f:\n",
    "        instructions = f.read()\n",
    "\n",
    "    response = client.responses.create(\n",
    "        model=\"gpt-4o-mini\",\n",
    "        instructions=instructions,\n",
    "        input=get_links_user_prompt(website),\n",
    "        text={\"format\": {\"type\": \"json_object\"}},\n",
    "        store=False\n",
    "    )\n",
    "    return json.loads(response.output_text)"
   ]
  },
  {
   "cell_type": "markdown",
   "metadata": {},
   "source": [
    "## Second step: make the brochure!"
   ]
  },
  {
   "cell_type": "code",
   "execution_count": 8,
   "metadata": {},
   "outputs": [],
   "source": [
    "def get_all_details(url):\n",
    "    result = \"\"\n",
    "    links = get_links(url)\n",
    "    print(\"Found links:\", links)\n",
    "    for link in links[\"links\"]:\n",
    "        result += f\"\\n\\n{link['type']}\\n\"\n",
    "        result += Website(link[\"url\"]).get_contents()\n",
    "    return result"
   ]
  },
  {
   "cell_type": "code",
   "execution_count": 10,
   "metadata": {},
   "outputs": [],
   "source": [
    "def get_brochure_user_prompt(company_name, url):\n",
    "    user_prompt = f\"You are looking at a company called: {company_name}\\nHere are the contents of its landing page and other relevant pages; use this information to build a short brochure of the company in markdown.\\n\"\n",
    "    user_prompt += get_all_details(url)\n",
    "    user_prompt = user_prompt[:5_000] # Truncate if more than 5,000 characters\n",
    "    return user_prompt"
   ]
  },
  {
   "cell_type": "code",
   "execution_count": 26,
   "metadata": {},
   "outputs": [],
   "source": [
    "def create_brochure(company_name, url):\n",
    "    with open(\"prompt_2.txt\", \"r\", encoding=\"utf-8\") as f:\n",
    "        instructions = f.read()\n",
    "\n",
    "    response = client.responses.create(\n",
    "        model=\"gpt-4o-mini\",\n",
    "        instructions=instructions,\n",
    "        input=get_brochure_user_prompt(company_name, url),\n",
    "        store=False\n",
    "    )\n",
    "    result = response.output_text\n",
    "    display(Markdown(result))"
   ]
  },
  {
   "cell_type": "code",
   "execution_count": 27,
   "metadata": {},
   "outputs": [
    {
     "name": "stdout",
     "output_type": "stream",
     "text": [
      "Found links: {'links': [{'type': 'home page', 'url': 'https://huggingface.co/'}, {'type': 'about page', 'url': 'https://huggingface.co/huggingface'}, {'type': 'careers page', 'url': 'https://apply.workable.com/huggingface/'}, {'type': 'blog', 'url': 'https://huggingface.co/blog'}, {'type': 'discuss forum', 'url': 'https://discuss.huggingface.co'}, {'type': 'documentation', 'url': 'https://huggingface.co/docs'}, {'type': 'enterprise page', 'url': 'https://huggingface.co/enterprise'}, {'type': 'pricing page', 'url': 'https://huggingface.co/pricing'}, {'type': 'GitHub page', 'url': 'https://github.com/huggingface'}, {'type': 'Twitter page', 'url': 'https://twitter.com/huggingface'}, {'type': 'LinkedIn page', 'url': 'https://www.linkedin.com/company/huggingface/'}]}\n"
     ]
    },
    {
     "data": {
      "text/markdown": [
       "# Hugging Face Brochure\n",
       "\n",
       "## **Welcome to Hugging Face**\n",
       "### The AI Community Building the Future\n",
       "\n",
       "Hugging Face is a revolutionary platform designed for the machine learning community to collaborate on models, datasets, and applications. With over 1 million models and 250,000 datasets, we empower developers and researchers to create, explore, and innovate in AI.\n",
       "\n",
       "### **Our Mission**\n",
       "Our mission is to democratize machine learning by building an accessible and open-source ecosystem. We strive to support the global AI community by providing powerful tools and resources to enhance creativity and efficiency in machine learning projects.\n",
       "\n",
       "---\n",
       "\n",
       "## **What We Offer**\n",
       "### **Models & Datasets**\n",
       "- **1M+ Models**: Discover, deploy, and collaborate on a vast library of ML models ranging from text, image, video, audio, to 3D.\n",
       "- **250k+ Datasets**: Access and contribute to a diverse array of datasets for every ML task imaginable.\n",
       "\n",
       "### **Spaces & Applications**\n",
       "Explore innovative applications on our platform, with a collection of over 400,000 applications that include dialogue generation, character customization, and more.\n",
       "\n",
       "### **Open Source Community**\n",
       "Our initiatives focus on open-source tools such as:\n",
       "- **Transformers**: State-of-the-art ML models for various frameworks.\n",
       "- **Diffusers**: Cutting-edge diffusion models optimized for performance.\n",
       "- **Accelerate & Tokenizers**: Robust libraries for efficient training and usage of ML models.\n",
       "\n",
       "---\n",
       "\n",
       "## **Customer Base**\n",
       "Join a diverse community of over **50,000 organizations**, including tech giants like:\n",
       "- **Meta**\n",
       "- **Amazon**\n",
       "- **Google**\n",
       "- **Microsoft**\n",
       "\n",
       "Our platform is tailored for enterprises, offering premium solutions with advanced security and dedicated support.\n",
       "\n",
       "---\n",
       "\n",
       "## **Company Culture**\n",
       "At Hugging Face, we foster a friendly and inclusive environment where innovation thrives. Collaboration is at our core – we engage with our community through forums, discussions, and open feedback channels. We are committed to ensuring that everyone, from seasoned machine learning experts to newcomers, feels welcome and supported.\n",
       "\n",
       "---\n",
       "\n",
       "## **Careers at Hugging Face**\n",
       "We are constantly on the lookout for talented individuals to join our team! If you are passionate about AI, machine learning, and want to contribute to a significant mission of democratizing technology, we encourage you to consider a career with us. Explore our [careers page](https://huggingface.co/jobs) for current openings.\n",
       "\n",
       "---\n",
       "\n",
       "## **Conclusion**\n",
       "Join us at Hugging Face and be a part of the future of AI. Whether you’re looking to contribute your expertise, utilize powerful tools for your projects, or explore cutting-edge innovations, Hugging Face is the place to be. \n",
       "\n",
       "### **Connect with Us**\n",
       "- [Twitter](https://twitter.com/huggingface)\n",
       "- [LinkedIn](https://linkedin.com/company/huggingface)\n",
       "- [Discord](https://discord.gg/huggingface)\n",
       "\n",
       "**Let’s build the future together!**"
      ],
      "text/plain": [
       "<IPython.core.display.Markdown object>"
      ]
     },
     "metadata": {},
     "output_type": "display_data"
    }
   ],
   "source": [
    "# create_brochure(\"HuggingFace\", \"https://huggingface.co\")"
   ]
  },
  {
   "cell_type": "markdown",
   "metadata": {},
   "source": [
    "## Finally - a minor improvement\n",
    "\n",
    "With a small adjustment, we can change this so that the results stream back from OpenAI,\n",
    "with the familiar typewriter animation"
   ]
  },
  {
   "cell_type": "code",
   "execution_count": 30,
   "metadata": {},
   "outputs": [],
   "source": [
    "def stream_brochure(company_name, url):\n",
    "    with open(\"prompt_2.txt\", \"r\", encoding=\"utf-8\") as f:\n",
    "        instructions = f.read()\n",
    "\n",
    "    stream = client.responses.create(\n",
    "        model=\"gpt-4o-mini\",\n",
    "        instructions=instructions,\n",
    "        input=get_brochure_user_prompt(company_name, url),\n",
    "        store=False,\n",
    "        stream=True,\n",
    "    )\n",
    "\n",
    "    # Initialize the display handle with an empty string\n",
    "    display_handle = display(Markdown(\"\"), display_id=True)\n",
    "    output_text = \"\"\n",
    "\n",
    "    for event in stream:\n",
    "        if event.type == \"response.output_text.delta\":\n",
    "            output_text += event.delta\n",
    "            update_display(Markdown(output_text), display_id=display_handle.display_id)"
   ]
  },
  {
   "cell_type": "code",
   "execution_count": 31,
   "metadata": {},
   "outputs": [
    {
     "name": "stdout",
     "output_type": "stream",
     "text": [
      "Found links: {'links': [{'type': 'home page', 'url': 'https://huggingface.co/'}, {'type': 'enterprise page', 'url': 'https://huggingface.co/enterprise'}, {'type': 'pricing page', 'url': 'https://huggingface.co/pricing'}, {'type': 'about page', 'url': 'https://huggingface.co/huggingface'}, {'type': 'careers page', 'url': 'https://apply.workable.com/huggingface/'}, {'type': 'blog page', 'url': 'https://huggingface.co/blog'}, {'type': 'discussion forum', 'url': 'https://discuss.huggingface.co'}, {'type': 'GitHub page', 'url': 'https://github.com/huggingface'}, {'type': 'Twitter page', 'url': 'https://twitter.com/huggingface'}, {'type': 'LinkedIn page', 'url': 'https://www.linkedin.com/company/huggingface/'}]}\n"
     ]
    },
    {
     "data": {
      "text/markdown": [
       "# Hugging Face Brochure\n",
       "\n",
       "## Welcome to Hugging Face\n",
       "\n",
       "### The AI Community Building the Future\n",
       "\n",
       "At Hugging Face, we are dedicated to creating a platform where the machine learning community can collaborate, innovate, and build the future of AI together. With over 1 million models and 250,000 datasets, our platform serves as the go-to resource for developers, researchers, and businesses worldwide.\n",
       "\n",
       "---\n",
       "\n",
       "### What We Offer\n",
       "\n",
       "- **Models**: Access to a diverse range of models for natural language processing, computer vision, and more.\n",
       "- **Datasets**: Explore a vast library of datasets tailored for various ML tasks.\n",
       "- **Spaces**: Share and discover applications that use our tools and libraries.\n",
       "- **Enterprise Solutions**: Tailored solutions for businesses, complete with enterprise-grade security, dedicated support, and access controls.\n",
       "\n",
       "---\n",
       "\n",
       "### Our Community\n",
       "\n",
       "More than **50,000 organizations**, including industry giants like Google, Microsoft, Amazon, and Meta, utilize Hugging Face to enhance their machine learning capabilities. Our open-source projects, like Transformers and Diffusers, empower developers to innovate rapidly and efficiently.\n",
       "\n",
       "**Key Customers**:\n",
       "- AI at Meta\n",
       "- Amazon\n",
       "- Google\n",
       "- Microsoft\n",
       "- Grammarly\n",
       "\n",
       "---\n",
       "\n",
       "### Company Culture\n",
       "\n",
       "At Hugging Face, we believe in the power of collaboration and inclusivity. Our community-centric culture champions open-source principles, knowledge sharing, and transparency. We foster an environment where creativity can thrive, allowing each member to contribute to the rapidly evolving field of AI.\n",
       "\n",
       "- **Innovation-Driven**: Encouraging creative solutions and new ideas.\n",
       "- **Collaborative Spirit**: Supporting teamwork within and beyond our team.\n",
       "- **Inclusive Environment**: Valuing diversity and welcoming all voices.\n",
       "\n",
       "---\n",
       "\n",
       "### Careers at Hugging Face\n",
       "\n",
       "Join us in our mission to democratize AI! We are always seeking talented individuals who are passionate about machine learning and software development. At Hugging Face, you can expect:\n",
       "\n",
       "- Opportunities for growth and skill development.\n",
       "- A chance to collaborate with industry leaders and innovators.\n",
       "- A flexible work environment that promotes work-life balance.\n",
       "\n",
       "**Visit our [careers page](#) to explore current job openings!**\n",
       "\n",
       "---\n",
       "\n",
       "### Connect With Us\n",
       "\n",
       "Stay updated with our latest features, projects, and community news:\n",
       "\n",
       "- [GitHub](https://github.com/huggingface)\n",
       "- [Twitter](https://twitter.com/huggingface)\n",
       "- [LinkedIn](https://www.linkedin.com/company/hugging-face)\n",
       "- [Discord](https://discord.gg/huggingface)\n",
       "\n",
       "Join the Hugging Face community today and help shape the future of AI!"
      ],
      "text/plain": [
       "<IPython.core.display.Markdown object>"
      ]
     },
     "metadata": {},
     "output_type": "display_data"
    }
   ],
   "source": [
    "stream_brochure(\"HuggingFace\", \"https://huggingface.co\")"
   ]
  }
 ],
 "metadata": {
  "kernelspec": {
   "display_name": ".venv",
   "language": "python",
   "name": "python3"
  },
  "language_info": {
   "codemirror_mode": {
    "name": "ipython",
    "version": 3
   },
   "file_extension": ".py",
   "mimetype": "text/x-python",
   "name": "python",
   "nbconvert_exporter": "python",
   "pygments_lexer": "ipython3",
   "version": "3.13.2"
  }
 },
 "nbformat": 4,
 "nbformat_minor": 2
}
